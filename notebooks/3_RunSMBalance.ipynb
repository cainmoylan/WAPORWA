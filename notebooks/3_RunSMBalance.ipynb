{
 "cells": [
  {
   "cell_type": "code",
   "execution_count": null,
   "metadata": {},
   "outputs": [],
   "source": [
    "import os\n",
    "import glob\n",
    "#import WAPORWA modules\n",
    "os.chdir(r'D:\\Github\\WAPORWA\\modules') #change to modules path\n",
    "import WaPOR\n",
    "import WA\n",
    "from WA.pickle_basin import pickle_in,pickle_out  \n",
    "\n",
    "#Read pickle\n",
    "pickle=glob.glob(r'E:\\WA_Sheet1\\Main\\Niger\\*.pickle')[-1]\n",
    "BASIN=pickle_in(pickle)  "
   ]
  },
  {
   "cell_type": "code",
   "execution_count": null,
   "metadata": {},
   "outputs": [],
   "source": [
    "from WA.model_SMBalance import run_SMBalance\n",
    "from dask.distributed import Client\n",
    "client = Client(processes=False, threads_per_worker=2,\n",
    "                n_workers=2, memory_limit='4GB')\n",
    "client\n"
   ]
  },
  {
   "cell_type": "code",
   "execution_count": null,
   "metadata": {},
   "outputs": [],
   "source": [
    "## input data\n",
    "MAIN_FOLDER= os.path.join(BASIN['Dir'],'data','nc')#r'F:\\ntr002\\archive'\n",
    "smsat_file = BASIN['main_data']['stat']['thetasat']#r\"F:\\ntr002\\stat\\thetasat_topsoil.tif\"\n",
    "## read nc files    \n",
    "p_in = BASIN['main_data']['monthly']['p']#r\"F:\\ntr002\\archive\\p_monthly.nc\"\n",
    "e_in = BASIN['main_data']['monthly']['et']#r\"F:\\ntr002\\archive\\et_monthly.nc\"\n",
    "i_in = BASIN['main_data']['monthly']['i']#r\"F:\\ntr002\\archive\\i_monthly.nc\"\n",
    "rd_in = BASIN['main_data']['monthly']['nRD']#r\"F:\\ntr002\\archive\\nRD_monthly.nc\"\n",
    "lu_in = BASIN['main_data']['yearly']['lcc'] #r\"F:\\ntr002\\archive\\lcc_yearly.nc\"\n",
    "\n",
    "# thetasat_in=r\"F:\\ntr002\\archive\\thetasat.nc\"\n",
    "\n",
    "outputs=run_SMBalance(MAIN_FOLDER,p_in,e_in,i_in,rd_in,lu_in,smsat_file,\n",
    "         start_year=2009,f_perc=1,f_Smax=0.9, cf =  20,\n",
    "         chunks=[1,1000,1000])"
   ]
  },
  {
   "cell_type": "code",
   "execution_count": null,
   "metadata": {},
   "outputs": [],
   "source": [
    "BASIN['main_data']['monthly']['etrain']=outputs[0]\n",
    "BASIN['main_data']['monthly']['etincr']=outputs[1]"
   ]
  }
 ],
 "metadata": {
  "kernelspec": {
   "display_name": "Python 3",
   "language": "python",
   "name": "python3"
  },
  "language_info": {
   "codemirror_mode": {
    "name": "ipython",
    "version": 3
   },
   "file_extension": ".py",
   "mimetype": "text/x-python",
   "name": "python",
   "nbconvert_exporter": "python",
   "pygments_lexer": "ipython3",
   "version": "3.7.3"
  }
 },
 "nbformat": 4,
 "nbformat_minor": 2
}
