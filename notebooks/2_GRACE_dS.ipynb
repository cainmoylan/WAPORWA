{
 "cells": [
  {
   "cell_type": "code",
   "execution_count": null,
   "metadata": {},
   "outputs": [],
   "source": [
    "import os\n",
    "import pandas as pd\n",
    "#import WAPORWA modules\n",
    "os.chdir(r'D:\\Github\\WAPORWA\\modules') #change to modules path\n",
    "\n",
    "import WA\n",
    "from WA.dS_from_grace import main as calc_dS_basin\n",
    "from WA.pickle_basin import pickle_in,pickle_out  \n",
    "\n",
    "#Read pickle\n",
    "pickle=glob.glob(r'E:\\WA_Sheet1\\Main\\Niger\\*.pickle')[-1]\n",
    "BASIN=pickle_in(pickle)  "
   ]
  },
  {
   "cell_type": "code",
   "execution_count": null,
   "metadata": {},
   "outputs": [],
   "source": [
    "BASIN_SHP= BASIN['geo_data']['basin']#r\"D:\\Data\\GRACE\\Niger_GRACE\\Niger.shp\"\n",
    "OUT_CSV= os.path.join(BASIN['Dir','ts_GRACE.csv')#r\"D:\\Data\\GRACE\\Niger_GRACE\\Niger.csv\"\n",
    "MASCON_DATA_FOLDER = BASIN['global_data']['grace']#r\"D:\\Data\\GRACE\\GSFC.glb.200301_201607_v02.4-ICE6G\"\n",
    "end_month=BASIN['end_month']\n",
    "                            \n",
    "calc_dS_basin(BASIN_SHP,MASCON_DATA_FOLDER,OUT_CSV)"
   ]
  },
  {
   "cell_type": "code",
   "execution_count": null,
   "metadata": {},
   "outputs": [],
   "source": [
    "grace_basin_csv=OUT_CSV\n",
    "ts_grace=pd.read_csv(grace_basin_csv,sep=',',index_col=0)\n",
    "ts_day=pd.DataFrame(index=pd.date_range(start='2003-01-06',end='2016-07-14',freq='D'))\n",
    "ts_grace_daily=pd.merge(ts_day,ts_grace, left_index=True,right_index=True, how='outer')\n",
    "ts_grace_interpolate_daily=ts_grace_daily.interpolate()\n",
    "ts_cumsum_dS_monthly_firstday=ts_grace_interpolate_daily.resample('MS').first()\n",
    "ts_dS_monthly=ts_cumsum_dS_monthly_firstday.diff(2).shift(-1)/2\n",
    "ts_dS_yearly=ts_dS_monthly.resample('A-{0}'.format(end_month)).sum()\n"
   ]
  }
 ],
 "metadata": {
  "kernelspec": {
   "display_name": "Python 3",
   "language": "python",
   "name": "python3"
  },
  "language_info": {
   "codemirror_mode": {
    "name": "ipython",
    "version": 3
   },
   "file_extension": ".py",
   "mimetype": "text/x-python",
   "name": "python",
   "nbconvert_exporter": "python",
   "pygments_lexer": "ipython3",
   "version": "3.7.3"
  }
 },
 "nbformat": 4,
 "nbformat_minor": 2
}
